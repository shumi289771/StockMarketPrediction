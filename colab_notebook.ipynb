# Colab notebook : colab_notebook.ipynb

# Clonez le dépôt GitHub
!git clone https://github.com/username/StockMarketPrediction.git
%cd StockMarketPrediction

# Installer les dépendances
!pip install -r requirements.txt

# Importez les classes
from StockMarketValue import StockMarketValue
from Model import Model

# Récupération des données de marché
ticker = "AAPL"
market_data = StockMarketValue(ticker)
market_data.fetch_data()
market_data.calculate_indicators()
market_data.normalize_data()
market_data.save_data("aapl_data.csv")

# Préparation des données pour le modèle
X = market_data.data[['Close', 'EMA']].values.reshape(-1, 2)  # Adapter la forme si nécessaire pour Conv1D/LSTM
y = market_data.data['Close'].values

# Créer et entraîner le modèle
input_shape = (X.shape[1], X.shape[2]) if len(X.shape) == 3 else (X.shape[1],)
model_instance = Model('CNN+LSTM', input_shape)
tuner = model_instance.tune_hyperparameters(X, y)
model_instance.train_best_model(X, y)
model_instance.save_model("best_model.h5")

# Charger le modèle et faire des prédictions
market_data.load_model_and_predict(model_instance.model)
market_data.visualize_predictions()
