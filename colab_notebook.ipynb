{
 "cells": [
  {
   "cell_type": "markdown",
   "metadata": {},
   "source": [
    "# Stock Market Prediction\n",
    "\n",
    "1Ce notebook utilise des classes Python pour prédire les valeurs du marché boursier en utilisant des modèles CNN+GRU, CNN+LSTM et LSTM, avec des données récupérées de Yahoo Finance."
   ]
  },
  {
   "cell_type": "markdown",
   "metadata": {},
   "source": [
    "## Étape 1 : Cloner le dépôt GitHub et installer les dépendances"
   ]
  },
  {
   "cell_type": "code",
   "execution_count": null,
   "metadata": {},
   "outputs": [],
   "source": [
    "# Clonez le dépôt GitHub\n",
    "!git clone https://github.com/shumi289771/StockMarketPrediction.git\n",
    "%cd StockMarketPrediction\n",
    "\n",
    "# Installer les dépendances\n",
    "!pip install -r requirements.txt"
   ]
  },
  {
   "cell_type": "markdown",
   "metadata": {},
   "source": [
    "## Étape 2 : Importer les classes `StockMarketValue` et `Model`"
   ]
  },
  {
   "cell_type": "code",
   "execution_count": null,
   "metadata": {},
   "outputs": [],
   "source": [
    "# Importez les classes définies dans le dépôt\n",
    "from StockMarketValue import StockMarketValue\n",
    "from Model import Model"
   ]
  },
  {
   "cell_type": "markdown",
   "metadata": {},
   "source": [
    "## Étape 3 : Récupération et prétraitement des données de marché"
   ]
  },
  {
   "cell_type": "code",
   "execution_count": null,
   "metadata": {},
   "outputs": [],
   "source": [
    "ticker = \"AAPL\"\n",
    "market_data = StockMarketValue(ticker)\n",
    "\n",
    "# Récupération des données historiques\n",
    "market_data.fetch_data()\n",
    "market_data.calculate_indicators()\n",
    "market_data.normalize_data()\n",
    "market_data.save_data(\"aapl_data.csv\")"
   ]
  },
  {
   "cell_type": "markdown",
   "metadata": {},
   "source": [
    "## Étape 4 : Préparation des données pour le modèle"
   ]
  },
  {
   "cell_type": "code",
   "execution_count": null,
   "metadata": {},
   "outputs": [],
   "source": [
    "# Préparation des données pour le modèle\n",
    "X = market_data.data[['Close', 'EMA']].values.reshape(-1, 2)  # Adapter la forme si nécessaire pour Conv1D/LSTM\n",
    "y = market_data.data['Close'].values"
   ]
  },
  {
   "cell_type": "markdown",
   "metadata": {},
   "source": [
    "## Étape 5 : Création et entraînement du modèle avec `keras-tuner`"
   ]
  },
  {
   "cell_type": "code",
   "execution_count": null,
   "metadata": {},
   "outputs": [],
   "source": [
    "# Initialiser et entraîner le modèle\n",
    "input_shape = (X.shape[1], 1)  # Définir la forme d'entrée pour Conv1D/LSTM\n",
    "model_instance = Model('CNN+LSTM', input_shape)\n",
    "\n",
    "# Ajustement des hyperparamètres avec keras-tuner\n",
    "tuner = model_instance.tune_hyperparameters(X, y)\n",
    "\n",
    "# Entraînement du meilleur modèle\n",
    "model_instance.train_best_model(X, y)\n",
    "model_instance.save_model(\"best_model.h5\")"
   ]
  },
  {
   "cell_type": "markdown",
   "metadata": {},
   "source": [
    "## Étape 6 : Charger le modèle et faire des prédictions"
   ]
  },
  {
   "cell_type": "code",
   "execution_count": null,
   "metadata": {},
   "outputs": [],
   "source": [
    "# Charger le modèle entraîné et effectuer des prédictions\n",
    "market_data.load_model_and_predict(model_instance.model)\n",
    "market_data.visualize_predictions()"
   ]
  }
 ],
 "metadata": {
  "kernelspec": {
   "display_name": "Python 3",
   "language": "python",
   "name": "python3"
  },
  "language_info": {
   "name": "python",
   "version": ""
  }
 },
 "nbformat": 4,
 "nbformat_minor": 2
}
